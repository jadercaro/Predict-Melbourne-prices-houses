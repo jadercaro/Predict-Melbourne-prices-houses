{
 "cells": [
  {
   "cell_type": "code",
   "execution_count": 98,
   "id": "dd1bcde8",
   "metadata": {},
   "outputs": [],
   "source": [
    "import pandas as pd\n",
    "import numpy as np"
   ]
  },
  {
   "cell_type": "markdown",
   "id": "79738eb0",
   "metadata": {},
   "source": [
    "# Load the database\n",
    "At this step, i will load the database and then perform a visualization of the variables "
   ]
  },
  {
   "cell_type": "code",
   "execution_count": 99,
   "id": "bd3164c1",
   "metadata": {
    "scrolled": false
   },
   "outputs": [
    {
     "data": {
      "text/html": [
       "<div>\n",
       "<style scoped>\n",
       "    .dataframe tbody tr th:only-of-type {\n",
       "        vertical-align: middle;\n",
       "    }\n",
       "\n",
       "    .dataframe tbody tr th {\n",
       "        vertical-align: top;\n",
       "    }\n",
       "\n",
       "    .dataframe thead th {\n",
       "        text-align: right;\n",
       "    }\n",
       "</style>\n",
       "<table border=\"1\" class=\"dataframe\">\n",
       "  <thead>\n",
       "    <tr style=\"text-align: right;\">\n",
       "      <th></th>\n",
       "      <th>Rooms</th>\n",
       "      <th>Price</th>\n",
       "      <th>Distance</th>\n",
       "      <th>Postcode</th>\n",
       "      <th>Bedroom2</th>\n",
       "      <th>Bathroom</th>\n",
       "      <th>Car</th>\n",
       "      <th>Landsize</th>\n",
       "      <th>BuildingArea</th>\n",
       "      <th>YearBuilt</th>\n",
       "      <th>Lattitude</th>\n",
       "      <th>Longtitude</th>\n",
       "      <th>Propertycount</th>\n",
       "    </tr>\n",
       "  </thead>\n",
       "  <tbody>\n",
       "    <tr>\n",
       "      <th>count</th>\n",
       "      <td>13580.000000</td>\n",
       "      <td>1.358000e+04</td>\n",
       "      <td>13580.000000</td>\n",
       "      <td>13580.000000</td>\n",
       "      <td>13580.000000</td>\n",
       "      <td>13580.000000</td>\n",
       "      <td>13518.000000</td>\n",
       "      <td>13580.000000</td>\n",
       "      <td>7130.000000</td>\n",
       "      <td>8205.000000</td>\n",
       "      <td>13580.000000</td>\n",
       "      <td>13580.000000</td>\n",
       "      <td>13580.000000</td>\n",
       "    </tr>\n",
       "    <tr>\n",
       "      <th>mean</th>\n",
       "      <td>2.937997</td>\n",
       "      <td>1.075684e+06</td>\n",
       "      <td>10.137776</td>\n",
       "      <td>3105.301915</td>\n",
       "      <td>2.914728</td>\n",
       "      <td>1.534242</td>\n",
       "      <td>1.610075</td>\n",
       "      <td>558.416127</td>\n",
       "      <td>151.967650</td>\n",
       "      <td>1964.684217</td>\n",
       "      <td>-37.809203</td>\n",
       "      <td>144.995216</td>\n",
       "      <td>7454.417378</td>\n",
       "    </tr>\n",
       "    <tr>\n",
       "      <th>std</th>\n",
       "      <td>0.955748</td>\n",
       "      <td>6.393107e+05</td>\n",
       "      <td>5.868725</td>\n",
       "      <td>90.676964</td>\n",
       "      <td>0.965921</td>\n",
       "      <td>0.691712</td>\n",
       "      <td>0.962634</td>\n",
       "      <td>3990.669241</td>\n",
       "      <td>541.014538</td>\n",
       "      <td>37.273762</td>\n",
       "      <td>0.079260</td>\n",
       "      <td>0.103916</td>\n",
       "      <td>4378.581772</td>\n",
       "    </tr>\n",
       "    <tr>\n",
       "      <th>min</th>\n",
       "      <td>1.000000</td>\n",
       "      <td>8.500000e+04</td>\n",
       "      <td>0.000000</td>\n",
       "      <td>3000.000000</td>\n",
       "      <td>0.000000</td>\n",
       "      <td>0.000000</td>\n",
       "      <td>0.000000</td>\n",
       "      <td>0.000000</td>\n",
       "      <td>0.000000</td>\n",
       "      <td>1196.000000</td>\n",
       "      <td>-38.182550</td>\n",
       "      <td>144.431810</td>\n",
       "      <td>249.000000</td>\n",
       "    </tr>\n",
       "    <tr>\n",
       "      <th>25%</th>\n",
       "      <td>2.000000</td>\n",
       "      <td>6.500000e+05</td>\n",
       "      <td>6.100000</td>\n",
       "      <td>3044.000000</td>\n",
       "      <td>2.000000</td>\n",
       "      <td>1.000000</td>\n",
       "      <td>1.000000</td>\n",
       "      <td>177.000000</td>\n",
       "      <td>93.000000</td>\n",
       "      <td>1940.000000</td>\n",
       "      <td>-37.856822</td>\n",
       "      <td>144.929600</td>\n",
       "      <td>4380.000000</td>\n",
       "    </tr>\n",
       "    <tr>\n",
       "      <th>50%</th>\n",
       "      <td>3.000000</td>\n",
       "      <td>9.030000e+05</td>\n",
       "      <td>9.200000</td>\n",
       "      <td>3084.000000</td>\n",
       "      <td>3.000000</td>\n",
       "      <td>1.000000</td>\n",
       "      <td>2.000000</td>\n",
       "      <td>440.000000</td>\n",
       "      <td>126.000000</td>\n",
       "      <td>1970.000000</td>\n",
       "      <td>-37.802355</td>\n",
       "      <td>145.000100</td>\n",
       "      <td>6555.000000</td>\n",
       "    </tr>\n",
       "    <tr>\n",
       "      <th>75%</th>\n",
       "      <td>3.000000</td>\n",
       "      <td>1.330000e+06</td>\n",
       "      <td>13.000000</td>\n",
       "      <td>3148.000000</td>\n",
       "      <td>3.000000</td>\n",
       "      <td>2.000000</td>\n",
       "      <td>2.000000</td>\n",
       "      <td>651.000000</td>\n",
       "      <td>174.000000</td>\n",
       "      <td>1999.000000</td>\n",
       "      <td>-37.756400</td>\n",
       "      <td>145.058305</td>\n",
       "      <td>10331.000000</td>\n",
       "    </tr>\n",
       "    <tr>\n",
       "      <th>max</th>\n",
       "      <td>10.000000</td>\n",
       "      <td>9.000000e+06</td>\n",
       "      <td>48.100000</td>\n",
       "      <td>3977.000000</td>\n",
       "      <td>20.000000</td>\n",
       "      <td>8.000000</td>\n",
       "      <td>10.000000</td>\n",
       "      <td>433014.000000</td>\n",
       "      <td>44515.000000</td>\n",
       "      <td>2018.000000</td>\n",
       "      <td>-37.408530</td>\n",
       "      <td>145.526350</td>\n",
       "      <td>21650.000000</td>\n",
       "    </tr>\n",
       "  </tbody>\n",
       "</table>\n",
       "</div>"
      ],
      "text/plain": [
       "              Rooms         Price      Distance      Postcode      Bedroom2  \\\n",
       "count  13580.000000  1.358000e+04  13580.000000  13580.000000  13580.000000   \n",
       "mean       2.937997  1.075684e+06     10.137776   3105.301915      2.914728   \n",
       "std        0.955748  6.393107e+05      5.868725     90.676964      0.965921   \n",
       "min        1.000000  8.500000e+04      0.000000   3000.000000      0.000000   \n",
       "25%        2.000000  6.500000e+05      6.100000   3044.000000      2.000000   \n",
       "50%        3.000000  9.030000e+05      9.200000   3084.000000      3.000000   \n",
       "75%        3.000000  1.330000e+06     13.000000   3148.000000      3.000000   \n",
       "max       10.000000  9.000000e+06     48.100000   3977.000000     20.000000   \n",
       "\n",
       "           Bathroom           Car       Landsize  BuildingArea    YearBuilt  \\\n",
       "count  13580.000000  13518.000000   13580.000000   7130.000000  8205.000000   \n",
       "mean       1.534242      1.610075     558.416127    151.967650  1964.684217   \n",
       "std        0.691712      0.962634    3990.669241    541.014538    37.273762   \n",
       "min        0.000000      0.000000       0.000000      0.000000  1196.000000   \n",
       "25%        1.000000      1.000000     177.000000     93.000000  1940.000000   \n",
       "50%        1.000000      2.000000     440.000000    126.000000  1970.000000   \n",
       "75%        2.000000      2.000000     651.000000    174.000000  1999.000000   \n",
       "max        8.000000     10.000000  433014.000000  44515.000000  2018.000000   \n",
       "\n",
       "          Lattitude    Longtitude  Propertycount  \n",
       "count  13580.000000  13580.000000   13580.000000  \n",
       "mean     -37.809203    144.995216    7454.417378  \n",
       "std        0.079260      0.103916    4378.581772  \n",
       "min      -38.182550    144.431810     249.000000  \n",
       "25%      -37.856822    144.929600    4380.000000  \n",
       "50%      -37.802355    145.000100    6555.000000  \n",
       "75%      -37.756400    145.058305   10331.000000  \n",
       "max      -37.408530    145.526350   21650.000000  "
      ]
     },
     "execution_count": 99,
     "metadata": {},
     "output_type": "execute_result"
    }
   ],
   "source": [
    "database = pd.read_csv('melb_data.csv')\n",
    "database.describe()\n"
   ]
  },
  {
   "cell_type": "code",
   "execution_count": null,
   "id": "71fd4aef",
   "metadata": {},
   "outputs": [],
   "source": [
    "database.info()"
   ]
  },
  {
   "cell_type": "code",
   "execution_count": 90,
   "id": "5c677db1",
   "metadata": {},
   "outputs": [
    {
     "name": "stdout",
     "output_type": "stream",
     "text": [
      "Unique values for column 'Suburb':\n",
      "314\n",
      "Unique values for column 'Address':\n",
      "13378\n",
      "Unique values for column 'Type':\n",
      "3\n",
      "Unique values for column 'Method':\n",
      "5\n",
      "Unique values for column 'SellerG':\n",
      "268\n",
      "Unique values for column 'Date':\n",
      "58\n",
      "Unique values for column 'CouncilArea':\n",
      "34\n",
      "Unique values for column 'Regionname':\n",
      "8\n"
     ]
    }
   ],
   "source": [
    "for column in database.select_dtypes(include =['object']):\n",
    "    unique_values = np.unique(database[column].astype(str))\n",
    "    print(f\"Unique values for column '{column}':\")\n",
    "    print(unique_values.size)"
   ]
  },
  {
   "cell_type": "markdown",
   "id": "fc43a9cb",
   "metadata": {},
   "source": [
    "# Categorical variables\n",
    "we check the number categories of each categorical variable has to determine how to handle each variable"
   ]
  },
  {
   "cell_type": "code",
   "execution_count": 71,
   "id": "df6236b1",
   "metadata": {
    "scrolled": false
   },
   "outputs": [
    {
     "name": "stdout",
     "output_type": "stream",
     "text": [
      "<class 'pandas.core.frame.DataFrame'>\n",
      "RangeIndex: 13580 entries, 0 to 13579\n",
      "Data columns (total 21 columns):\n",
      " #   Column         Non-Null Count  Dtype  \n",
      "---  ------         --------------  -----  \n",
      " 0   Suburb         13580 non-null  object \n",
      " 1   Address        13580 non-null  object \n",
      " 2   Rooms          13580 non-null  int64  \n",
      " 3   Type           13580 non-null  object \n",
      " 4   Price          13580 non-null  float64\n",
      " 5   Method         13580 non-null  object \n",
      " 6   SellerG        13580 non-null  object \n",
      " 7   Date           13580 non-null  object \n",
      " 8   Distance       13580 non-null  float64\n",
      " 9   Postcode       13580 non-null  float64\n",
      " 10  Bedroom2       13580 non-null  float64\n",
      " 11  Bathroom       13580 non-null  float64\n",
      " 12  Car            13518 non-null  float64\n",
      " 13  Landsize       13580 non-null  float64\n",
      " 14  BuildingArea   7130 non-null   float64\n",
      " 15  YearBuilt      8205 non-null   float64\n",
      " 16  CouncilArea    12211 non-null  object \n",
      " 17  Lattitude      13580 non-null  float64\n",
      " 18  Longtitude     13580 non-null  float64\n",
      " 19  Regionname     13580 non-null  object \n",
      " 20  Propertycount  13580 non-null  float64\n",
      "dtypes: float64(12), int64(1), object(8)\n",
      "memory usage: 2.2+ MB\n"
     ]
    }
   ],
   "source": [
    "database.info()"
   ]
  },
  {
   "cell_type": "markdown",
   "id": "edd27339",
   "metadata": {},
   "source": [
    "# Null values\n",
    "we check variables with null values and type of variable"
   ]
  },
  {
   "cell_type": "code",
   "execution_count": 91,
   "id": "ce81d7d9",
   "metadata": {
    "scrolled": true
   },
   "outputs": [
    {
     "data": {
      "text/plain": [
       "Suburb             0\n",
       "Address            0\n",
       "Rooms              0\n",
       "Type               0\n",
       "Price              0\n",
       "Method             0\n",
       "SellerG            0\n",
       "Date               0\n",
       "Distance           0\n",
       "Postcode           0\n",
       "Bedroom2           0\n",
       "Bathroom           0\n",
       "Car               62\n",
       "Landsize           0\n",
       "BuildingArea    6450\n",
       "YearBuilt       5375\n",
       "CouncilArea     1369\n",
       "Lattitude          0\n",
       "Longtitude         0\n",
       "Regionname         0\n",
       "dtype: int64"
      ]
     },
     "execution_count": 91,
     "metadata": {},
     "output_type": "execute_result"
    }
   ],
   "source": [
    "data_nulls = database.isnull().sum()\n",
    "data_nulls[0:20]"
   ]
  },
  {
   "cell_type": "markdown",
   "id": "7916a853",
   "metadata": {},
   "source": [
    "# Fill the values empty of the 'Car' column\n",
    "For this column fill the values empty with zero value, but create a new column named 'FillCar'. 'FillCar' have a '1' value if its value 'car' was null "
   ]
  },
  {
   "cell_type": "code",
   "execution_count": 92,
   "id": "060756f5",
   "metadata": {},
   "outputs": [],
   "source": [
    "database['FillCar'] = 0\n",
    "database.loc[database['Car'].isnull(),'FillCar']= 1\n",
    "database['Car'] = database['Car'].fillna(0)"
   ]
  },
  {
   "cell_type": "code",
   "execution_count": 94,
   "id": "685608ab",
   "metadata": {
    "scrolled": false
   },
   "outputs": [
    {
     "name": "stdout",
     "output_type": "stream",
     "text": [
      "(6196, 22)\n"
     ]
    }
   ],
   "source": [
    "print(database.dropna().shape)\n",
    "data_final1=database.dropna().size"
   ]
  },
  {
   "cell_type": "code",
   "execution_count": 95,
   "id": "9838a521",
   "metadata": {},
   "outputs": [
    {
     "name": "stdout",
     "output_type": "stream",
     "text": [
      "(13580, 19)\n"
     ]
    }
   ],
   "source": [
    "print(database.dropna(axis=1).shape)\n",
    "data_final2=database.dropna(axis=1).size"
   ]
  },
  {
   "cell_type": "code",
   "execution_count": 97,
   "id": "c47d931d",
   "metadata": {},
   "outputs": [
    {
     "name": "stdout",
     "output_type": "stream",
     "text": [
      "54.37407952871871\n",
      "13.636363636363635\n"
     ]
    }
   ],
   "source": [
    "data_original = database.size\n",
    "porcent_rows_lossed = data_final1/data_original\n",
    "porcent_columns_lossed = data_final2/data_original\n",
    "\n",
    "print((1-porcent_rows_lossed)*100)\n",
    "print((1-porcent_columns_lossed)*100)"
   ]
  },
  {
   "cell_type": "markdown",
   "id": "6f4240d2",
   "metadata": {},
   "source": [
    "# handling nulls value\n",
    "\n",
    "In this point we're seeing that there are many data lossing, i can eliminate the columns which are data lossing (BuildingArea, YearBuilt, CouncilArea),we would loss 13.64% of data.\n",
    "\n",
    "Other option is eliminate the rows with one or more data lossing, with this option i'll 54.37% of data\n",
    "\n",
    "I'm going to eliminate the columns which are have one or more data lossing.\n",
    "\n"
   ]
  },
  {
   "cell_type": "code",
   "execution_count": 20,
   "id": "a85d7d0a",
   "metadata": {
    "scrolled": true
   },
   "outputs": [
    {
     "name": "stdout",
     "output_type": "stream",
     "text": [
      "<class 'pandas.core.frame.DataFrame'>\n",
      "RangeIndex: 13580 entries, 0 to 13579\n",
      "Data columns (total 17 columns):\n",
      " #   Column         Non-Null Count  Dtype  \n",
      "---  ------         --------------  -----  \n",
      " 0   Suburb         13580 non-null  object \n",
      " 1   Address        13580 non-null  object \n",
      " 2   Rooms          13580 non-null  int64  \n",
      " 3   Type           13580 non-null  object \n",
      " 4   Price          13580 non-null  float64\n",
      " 5   Method         13580 non-null  object \n",
      " 6   SellerG        13580 non-null  object \n",
      " 7   Date           13580 non-null  object \n",
      " 8   Distance       13580 non-null  float64\n",
      " 9   Postcode       13580 non-null  float64\n",
      " 10  Bedroom2       13580 non-null  float64\n",
      " 11  Bathroom       13580 non-null  float64\n",
      " 12  Landsize       13580 non-null  float64\n",
      " 13  Lattitude      13580 non-null  float64\n",
      " 14  Longtitude     13580 non-null  float64\n",
      " 15  Regionname     13580 non-null  object \n",
      " 16  Propertycount  13580 non-null  float64\n",
      "dtypes: float64(9), int64(1), object(7)\n",
      "memory usage: 1.8+ MB\n"
     ]
    }
   ],
   "source": [
    "database = database.dropna(axis=1)\n",
    "database.info()"
   ]
  },
  {
   "cell_type": "markdown",
   "id": "a4024b91",
   "metadata": {},
   "source": [
    "# Change the data type of dates\n",
    "\n"
   ]
  },
  {
   "cell_type": "code",
   "execution_count": 10,
   "id": "bc2709ee",
   "metadata": {},
   "outputs": [
    {
     "data": {
      "text/html": [
       "<div>\n",
       "<style scoped>\n",
       "    .dataframe tbody tr th:only-of-type {\n",
       "        vertical-align: middle;\n",
       "    }\n",
       "\n",
       "    .dataframe tbody tr th {\n",
       "        vertical-align: top;\n",
       "    }\n",
       "\n",
       "    .dataframe thead th {\n",
       "        text-align: right;\n",
       "    }\n",
       "</style>\n",
       "<table border=\"1\" class=\"dataframe\">\n",
       "  <thead>\n",
       "    <tr style=\"text-align: right;\">\n",
       "      <th></th>\n",
       "      <th>Suburb</th>\n",
       "      <th>Address</th>\n",
       "      <th>Rooms</th>\n",
       "      <th>Type</th>\n",
       "      <th>Price</th>\n",
       "      <th>Method</th>\n",
       "      <th>SellerG</th>\n",
       "      <th>Date</th>\n",
       "      <th>Distance</th>\n",
       "      <th>Postcode</th>\n",
       "      <th>Bedroom2</th>\n",
       "      <th>Bathroom</th>\n",
       "      <th>Landsize</th>\n",
       "      <th>Lattitude</th>\n",
       "      <th>Longtitude</th>\n",
       "      <th>Regionname</th>\n",
       "      <th>Propertycount</th>\n",
       "    </tr>\n",
       "  </thead>\n",
       "  <tbody>\n",
       "    <tr>\n",
       "      <th>0</th>\n",
       "      <td>Abbotsford</td>\n",
       "      <td>85 Turner St</td>\n",
       "      <td>2</td>\n",
       "      <td>h</td>\n",
       "      <td>1480000.0</td>\n",
       "      <td>S</td>\n",
       "      <td>Biggin</td>\n",
       "      <td>3/12/2016</td>\n",
       "      <td>2.5</td>\n",
       "      <td>3067.0</td>\n",
       "      <td>2.0</td>\n",
       "      <td>1.0</td>\n",
       "      <td>202.0</td>\n",
       "      <td>-37.7996</td>\n",
       "      <td>144.9984</td>\n",
       "      <td>Northern Metropolitan</td>\n",
       "      <td>4019.0</td>\n",
       "    </tr>\n",
       "    <tr>\n",
       "      <th>1</th>\n",
       "      <td>Abbotsford</td>\n",
       "      <td>25 Bloomburg St</td>\n",
       "      <td>2</td>\n",
       "      <td>h</td>\n",
       "      <td>1035000.0</td>\n",
       "      <td>S</td>\n",
       "      <td>Biggin</td>\n",
       "      <td>4/02/2016</td>\n",
       "      <td>2.5</td>\n",
       "      <td>3067.0</td>\n",
       "      <td>2.0</td>\n",
       "      <td>1.0</td>\n",
       "      <td>156.0</td>\n",
       "      <td>-37.8079</td>\n",
       "      <td>144.9934</td>\n",
       "      <td>Northern Metropolitan</td>\n",
       "      <td>4019.0</td>\n",
       "    </tr>\n",
       "    <tr>\n",
       "      <th>2</th>\n",
       "      <td>Abbotsford</td>\n",
       "      <td>5 Charles St</td>\n",
       "      <td>3</td>\n",
       "      <td>h</td>\n",
       "      <td>1465000.0</td>\n",
       "      <td>SP</td>\n",
       "      <td>Biggin</td>\n",
       "      <td>4/03/2017</td>\n",
       "      <td>2.5</td>\n",
       "      <td>3067.0</td>\n",
       "      <td>3.0</td>\n",
       "      <td>2.0</td>\n",
       "      <td>134.0</td>\n",
       "      <td>-37.8093</td>\n",
       "      <td>144.9944</td>\n",
       "      <td>Northern Metropolitan</td>\n",
       "      <td>4019.0</td>\n",
       "    </tr>\n",
       "    <tr>\n",
       "      <th>3</th>\n",
       "      <td>Abbotsford</td>\n",
       "      <td>40 Federation La</td>\n",
       "      <td>3</td>\n",
       "      <td>h</td>\n",
       "      <td>850000.0</td>\n",
       "      <td>PI</td>\n",
       "      <td>Biggin</td>\n",
       "      <td>4/03/2017</td>\n",
       "      <td>2.5</td>\n",
       "      <td>3067.0</td>\n",
       "      <td>3.0</td>\n",
       "      <td>2.0</td>\n",
       "      <td>94.0</td>\n",
       "      <td>-37.7969</td>\n",
       "      <td>144.9969</td>\n",
       "      <td>Northern Metropolitan</td>\n",
       "      <td>4019.0</td>\n",
       "    </tr>\n",
       "    <tr>\n",
       "      <th>4</th>\n",
       "      <td>Abbotsford</td>\n",
       "      <td>55a Park St</td>\n",
       "      <td>4</td>\n",
       "      <td>h</td>\n",
       "      <td>1600000.0</td>\n",
       "      <td>VB</td>\n",
       "      <td>Nelson</td>\n",
       "      <td>4/06/2016</td>\n",
       "      <td>2.5</td>\n",
       "      <td>3067.0</td>\n",
       "      <td>3.0</td>\n",
       "      <td>1.0</td>\n",
       "      <td>120.0</td>\n",
       "      <td>-37.8072</td>\n",
       "      <td>144.9941</td>\n",
       "      <td>Northern Metropolitan</td>\n",
       "      <td>4019.0</td>\n",
       "    </tr>\n",
       "  </tbody>\n",
       "</table>\n",
       "</div>"
      ],
      "text/plain": [
       "       Suburb           Address  Rooms Type      Price Method SellerG  \\\n",
       "0  Abbotsford      85 Turner St      2    h  1480000.0      S  Biggin   \n",
       "1  Abbotsford   25 Bloomburg St      2    h  1035000.0      S  Biggin   \n",
       "2  Abbotsford      5 Charles St      3    h  1465000.0     SP  Biggin   \n",
       "3  Abbotsford  40 Federation La      3    h   850000.0     PI  Biggin   \n",
       "4  Abbotsford       55a Park St      4    h  1600000.0     VB  Nelson   \n",
       "\n",
       "        Date  Distance  Postcode  Bedroom2  Bathroom  Landsize  Lattitude  \\\n",
       "0  3/12/2016       2.5    3067.0       2.0       1.0     202.0   -37.7996   \n",
       "1  4/02/2016       2.5    3067.0       2.0       1.0     156.0   -37.8079   \n",
       "2  4/03/2017       2.5    3067.0       3.0       2.0     134.0   -37.8093   \n",
       "3  4/03/2017       2.5    3067.0       3.0       2.0      94.0   -37.7969   \n",
       "4  4/06/2016       2.5    3067.0       3.0       1.0     120.0   -37.8072   \n",
       "\n",
       "   Longtitude             Regionname  Propertycount  \n",
       "0    144.9984  Northern Metropolitan         4019.0  \n",
       "1    144.9934  Northern Metropolitan         4019.0  \n",
       "2    144.9944  Northern Metropolitan         4019.0  \n",
       "3    144.9969  Northern Metropolitan         4019.0  \n",
       "4    144.9941  Northern Metropolitan         4019.0  "
      ]
     },
     "execution_count": 10,
     "metadata": {},
     "output_type": "execute_result"
    }
   ],
   "source": [
    "database.head()"
   ]
  },
  {
   "cell_type": "code",
   "execution_count": 21,
   "id": "b20cff1e",
   "metadata": {
    "scrolled": true
   },
   "outputs": [],
   "source": [
    "database['Date'] = pd.to_datetime(database['Date'],format='%d/%m/%Y')\n",
    "database['Date'].head()\n",
    "database.to_csv('Database_1.csv',index=False) #import the clean database to format csv"
   ]
  },
  {
   "cell_type": "code",
   "execution_count": 22,
   "id": "7a931b90",
   "metadata": {},
   "outputs": [
    {
     "name": "stdout",
     "output_type": "stream",
     "text": [
      "<class 'pandas.core.frame.DataFrame'>\n",
      "RangeIndex: 13580 entries, 0 to 13579\n",
      "Data columns (total 19 columns):\n",
      " #   Column         Non-Null Count  Dtype  \n",
      "---  ------         --------------  -----  \n",
      " 0   Suburb         13580 non-null  object \n",
      " 1   Address        13580 non-null  object \n",
      " 2   Rooms          13580 non-null  int64  \n",
      " 3   Type           13580 non-null  object \n",
      " 4   Price          13580 non-null  float64\n",
      " 5   Method         13580 non-null  object \n",
      " 6   SellerG        13580 non-null  object \n",
      " 7   Distance       13580 non-null  float64\n",
      " 8   Postcode       13580 non-null  float64\n",
      " 9   Bedroom2       13580 non-null  float64\n",
      " 10  Bathroom       13580 non-null  float64\n",
      " 11  Landsize       13580 non-null  float64\n",
      " 12  Lattitude      13580 non-null  float64\n",
      " 13  Longtitude     13580 non-null  float64\n",
      " 14  Regionname     13580 non-null  object \n",
      " 15  Propertycount  13580 non-null  float64\n",
      " 16  Day            13580 non-null  int64  \n",
      " 17  Month          13580 non-null  int64  \n",
      " 18  Year           13580 non-null  int64  \n",
      "dtypes: float64(9), int64(4), object(6)\n",
      "memory usage: 2.0+ MB\n"
     ]
    }
   ],
   "source": [
    "database['Day'] = database['Date'].dt.day\n",
    "database['Month'] = database['Date'].dt.month\n",
    "database['Year'] = database['Date'].dt.year\n",
    "database = database.drop(columns=['Date'])\n",
    "\n",
    "database.info()"
   ]
  },
  {
   "cell_type": "markdown",
   "id": "9c1f950d",
   "metadata": {},
   "source": [
    "# Selection of variables\n",
    "\n",
    "Select the dependent variable and the independent variables"
   ]
  },
  {
   "cell_type": "code",
   "execution_count": 23,
   "id": "4fed0139",
   "metadata": {
    "scrolled": true
   },
   "outputs": [
    {
     "name": "stdout",
     "output_type": "stream",
     "text": [
      "<class 'pandas.core.frame.DataFrame'>\n",
      "RangeIndex: 13580 entries, 0 to 13579\n",
      "Data columns (total 18 columns):\n",
      " #   Column         Non-Null Count  Dtype  \n",
      "---  ------         --------------  -----  \n",
      " 0   Suburb         13580 non-null  object \n",
      " 1   Address        13580 non-null  object \n",
      " 2   Rooms          13580 non-null  int64  \n",
      " 3   Type           13580 non-null  object \n",
      " 4   Method         13580 non-null  object \n",
      " 5   SellerG        13580 non-null  object \n",
      " 6   Distance       13580 non-null  float64\n",
      " 7   Postcode       13580 non-null  float64\n",
      " 8   Bedroom2       13580 non-null  float64\n",
      " 9   Bathroom       13580 non-null  float64\n",
      " 10  Landsize       13580 non-null  float64\n",
      " 11  Lattitude      13580 non-null  float64\n",
      " 12  Longtitude     13580 non-null  float64\n",
      " 13  Regionname     13580 non-null  object \n",
      " 14  Propertycount  13580 non-null  float64\n",
      " 15  Day            13580 non-null  int64  \n",
      " 16  Month          13580 non-null  int64  \n",
      " 17  Year           13580 non-null  int64  \n",
      "dtypes: float64(8), int64(4), object(6)\n",
      "memory usage: 1.9+ MB\n",
      "<class 'pandas.core.series.Series'>\n",
      "RangeIndex: 13580 entries, 0 to 13579\n",
      "Series name: Price\n",
      "Non-Null Count  Dtype  \n",
      "--------------  -----  \n",
      "13580 non-null  float64\n",
      "dtypes: float64(1)\n",
      "memory usage: 106.2 KB\n"
     ]
    }
   ],
   "source": [
    "y = database.Price\n",
    "x = database.drop(columns='Price')\n",
    "x.info()\n",
    "y.info()"
   ]
  },
  {
   "cell_type": "markdown",
   "id": "b8c52d50",
   "metadata": {},
   "source": [
    "# Encoder the categorical variables\n",
    "We need encode the categorical variables so as to train the model "
   ]
  },
  {
   "cell_type": "code",
   "execution_count": 24,
   "id": "082571a1",
   "metadata": {
    "scrolled": true
   },
   "outputs": [
    {
     "name": "stdout",
     "output_type": "stream",
     "text": [
      "<class 'pandas.core.frame.DataFrame'>\n",
      "RangeIndex: 13580 entries, 0 to 13579\n",
      "Data columns (total 18 columns):\n",
      " #   Column         Non-Null Count  Dtype  \n",
      "---  ------         --------------  -----  \n",
      " 0   Suburb         13580 non-null  int64  \n",
      " 1   Address        13580 non-null  int64  \n",
      " 2   Rooms          13580 non-null  int64  \n",
      " 3   Type           13580 non-null  int64  \n",
      " 4   Method         13580 non-null  int64  \n",
      " 5   SellerG        13580 non-null  int64  \n",
      " 6   Distance       13580 non-null  float64\n",
      " 7   Postcode       13580 non-null  float64\n",
      " 8   Bedroom2       13580 non-null  float64\n",
      " 9   Bathroom       13580 non-null  float64\n",
      " 10  Landsize       13580 non-null  float64\n",
      " 11  Lattitude      13580 non-null  float64\n",
      " 12  Longtitude     13580 non-null  float64\n",
      " 13  Regionname     13580 non-null  int64  \n",
      " 14  Propertycount  13580 non-null  float64\n",
      " 15  Day            13580 non-null  int64  \n",
      " 16  Month          13580 non-null  int64  \n",
      " 17  Year           13580 non-null  int64  \n",
      "dtypes: float64(8), int64(10)\n",
      "memory usage: 1.9 MB\n"
     ]
    }
   ],
   "source": [
    "from sklearn.preprocessing import LabelEncoder\n",
    "encoder = LabelEncoder()\n",
    "for column in x.select_dtypes(include=['object']):\n",
    "    x[column] = encoder.fit_transform(x[column])\n",
    "\n",
    "#categorical_codf = pd.get_dummies(categorical_col)\n",
    "#x = pd.concat([x.drop(columns=categorical_col),categorical_codf], axis=1 )\n",
    "x.head()\n",
    "x.info()"
   ]
  },
  {
   "cell_type": "code",
   "execution_count": 25,
   "id": "6be6f735",
   "metadata": {},
   "outputs": [],
   "source": [
    "from sklearn.model_selection import train_test_split\n",
    "x_train, x_val, y_train, y_val = train_test_split(x, y, test_size = 0.3, random_state = 1)"
   ]
  },
  {
   "cell_type": "markdown",
   "id": "f60b9d37",
   "metadata": {},
   "source": [
    "# First model: Decision tree Regressor\n",
    "The first model will be the decision tree."
   ]
  },
  {
   "cell_type": "code",
   "execution_count": 26,
   "id": "de70ed82",
   "metadata": {},
   "outputs": [],
   "source": [
    "from sklearn.tree import DecisionTreeRegressor\n",
    "from sklearn.metrics import mean_squared_error, mean_absolute_error, r2_score\n",
    "import numpy as np\n",
    "\n",
    "class validation:\n",
    "    y_val = 0\n",
    "    y_pred = 0\n",
    "    y = 0\n",
    "    mae = 0\n",
    "    r2 = 0\n",
    "    rmse = 0\n",
    "    mape = 0\n",
    "    ceofVar = 0\n",
    "    parameter = ' '\n",
    "    \n",
    "    def __init__(self, y_val, y_pred, y):\n",
    "        self.y_val = y_val\n",
    "        self.y_pred = y_pred\n",
    "        self.y = y\n",
    "        mse = mean_squared_error(self.y_val, self.y_pred)\n",
    "        self.mae = mean_absolute_error(self.y_val, self.y_pred)\n",
    "        self.r2 = r2_score(self.y_val, self.y_pred)\n",
    "        self.rmse = np.sqrt(mse)\n",
    "        self.mape = np.mean(np.abs((self.y_val - self.y_pred) / self.y_val)) * 100 \n",
    "        self.coefVar = self.mae/self.y.mean()\n",
    "        \n",
    "    def validation_metrics(self):\n",
    "        print('Mean Absolute Error: ', self.mae,'\\nR2 score: ',self.r2,'\\nRoot Mean Squared Error: ',\n",
    "              self.rmse,'\\nMean Absolute Percentage Error: ',self.mape,'\\nCoefficient Of Variation: ',self.coefVar\n",
    "             ,'\\nY mean: ',self.y.mean())\n",
    "    def parameters(self, parameter):\n",
    "        self.parameter = parameter"
   ]
  },
  {
   "cell_type": "code",
   "execution_count": 36,
   "id": "673c3f8f",
   "metadata": {},
   "outputs": [],
   "source": [
    "import itertools\n",
    "criterions = ['squared_error', 'friedman_mse', 'poisson', 'absolute_error']\n",
    "splitters = ['random', 'best']\n",
    "max_depths = [3, 5, 7, 10]\n",
    "max_features = [None, 'sqrt', 'log2']\n",
    "result = list()"
   ]
  },
  {
   "cell_type": "code",
   "execution_count": 37,
   "id": "34ebf6ce",
   "metadata": {
    "scrolled": false
   },
   "outputs": [],
   "source": [
    "for criterion, splitter, max_depth, max_feature in itertools.product(criterions,splitters, max_depths, max_features):\n",
    "    model_TR = DecisionTreeRegressor(criterion=criterion, splitter = splitter, max_depth = max_depth, max_features = max_feature, random_state=1)\n",
    "    model_TR = model_TR.fit(x_train,y_train)\n",
    "    y_pred = model_TR.predict(x_val)\n",
    "    obj_validation = validation(y_val, y_pred,y)\n",
    "    obj_validation.parameters(f'Criterion: {criterion}, Splitter: {splitter},Max Depth: {max_depth}, Max Features: {max_feature} \\n')\n",
    "    result.append(obj_validation)\n"
   ]
  },
  {
   "cell_type": "code",
   "execution_count": 38,
   "id": "4ddb78be",
   "metadata": {
    "scrolled": true
   },
   "outputs": [
    {
     "name": "stdout",
     "output_type": "stream",
     "text": [
      "Mean Absolute Error:  215468.90746195384 \n",
      "R2 score:  0.6558134535965217 \n",
      "Root Mean Squared Error:  370959.9108776395 \n",
      "Mean Absolute Percentage Error:  19.256958634847106 \n",
      "Coefficient Of Variation:  0.20030872593290205 \n",
      "Y mean:  1075684.079455081\n",
      "Criterion: absolute_error, Splitter: best,Max Depth: 10, Max Features: None \n",
      "\n",
      "Mean Absolute Error:  217440.17432346288 \n",
      "R2 score:  0.6321387115949495 \n",
      "Root Mean Squared Error:  383505.9241695821 \n",
      "Mean Absolute Percentage Error:  20.087337009153178 \n",
      "Coefficient Of Variation:  0.20214129638658734 \n",
      "Y mean:  1075684.079455081\n",
      "Criterion: poisson, Splitter: best,Max Depth: 10, Max Features: None \n",
      "\n",
      "Mean Absolute Error:  218226.81590574374 \n",
      "R2 score:  0.6835039011266304 \n",
      "Root Mean Squared Error:  355724.8573604761 \n",
      "Mean Absolute Percentage Error:  19.66126190427165 \n",
      "Coefficient Of Variation:  0.202872590636735 \n",
      "Y mean:  1075684.079455081\n",
      "Criterion: absolute_error, Splitter: best,Max Depth: 7, Max Features: None \n",
      "\n",
      "Mean Absolute Error:  220114.65255042567 \n",
      "R2 score:  0.6125192994482083 \n",
      "Root Mean Squared Error:  393599.9833494886 \n",
      "Mean Absolute Percentage Error:  20.00511716416019 \n",
      "Coefficient Of Variation:  0.20462760094202673 \n",
      "Y mean:  1075684.079455081\n",
      "Criterion: squared_error, Splitter: best,Max Depth: 10, Max Features: None \n",
      "\n",
      "Mean Absolute Error:  220114.65255042567 \n",
      "R2 score:  0.6125192994482083 \n",
      "Root Mean Squared Error:  393599.9833494886 \n",
      "Mean Absolute Percentage Error:  20.00511716416019 \n",
      "Coefficient Of Variation:  0.20462760094202673 \n",
      "Y mean:  1075684.079455081\n",
      "Criterion: friedman_mse, Splitter: best,Max Depth: 10, Max Features: None \n",
      "\n"
     ]
    }
   ],
   "source": [
    "sorted_list= sorted(result, key = lambda obj: obj.mae)\n",
    "for i in range(0,5):\n",
    "    obj = sorted_list[i]\n",
    "    obj.validation_metrics()\n",
    "    print(obj.parameter)"
   ]
  },
  {
   "cell_type": "code",
   "execution_count": 39,
   "id": "ed882bbf",
   "metadata": {},
   "outputs": [],
   "source": [
    "criterions = ['squared_error', 'poisson', 'absolute_error']\n",
    "max_depths = [7,8,9,10,11,12,13,14,15]"
   ]
  },
  {
   "cell_type": "code",
   "execution_count": 40,
   "id": "b2942d1c",
   "metadata": {},
   "outputs": [],
   "source": [
    "result = list()\n",
    "for criterion, max_depth in itertools.product(criterions, max_depths):\n",
    "    model_TR2 = DecisionTreeRegressor(criterion = criterion, max_depth = max_depth, splitter ='best', max_features=None, random_state=1).fit(x_train,y_train)\n",
    "    y_pred = model_TR2.predict(x_val)\n",
    "    obj_validation = validation(y_val, y_pred, y)\n",
    "    obj_validation.parameters(f'Criterion: {criterion} Max depth: {max_depth}\\n')\n",
    "    result.append(obj_validation)"
   ]
  },
  {
   "cell_type": "code",
   "execution_count": 41,
   "id": "6324484d",
   "metadata": {},
   "outputs": [
    {
     "name": "stdout",
     "output_type": "stream",
     "text": [
      "Mean Absolute Error:  211687.45446735396 \n",
      "R2 score:  0.6945264812462404 \n",
      "Root Mean Squared Error:  349475.5660988631 \n",
      "Mean Absolute Percentage Error:  19.0353217337811 \n",
      "Coefficient Of Variation:  0.19679333227148849 \n",
      "Y mean:  1075684.079455081\n",
      "Criterion: absolute_error Max depth: 8\n",
      "\n",
      "Mean Absolute Error:  214016.4237777155 \n",
      "R2 score:  0.6990369627653985 \n",
      "Root Mean Squared Error:  346885.8732354914 \n",
      "Mean Absolute Percentage Error:  19.949928174488164 \n",
      "Coefficient Of Variation:  0.19895843757967652 \n",
      "Y mean:  1075684.079455081\n",
      "Criterion: poisson Max depth: 9\n",
      "\n",
      "Mean Absolute Error:  214041.3996072656 \n",
      "R2 score:  0.6791653160314605 \n",
      "Root Mean Squared Error:  358154.72839208716 \n",
      "Mean Absolute Percentage Error:  19.35384360388167 \n",
      "Coefficient Of Variation:  0.1989816561342941 \n",
      "Y mean:  1075684.079455081\n",
      "Criterion: absolute_error Max depth: 9\n",
      "\n",
      "Mean Absolute Error:  215468.90746195384 \n",
      "R2 score:  0.6558134535965217 \n",
      "Root Mean Squared Error:  370959.9108776395 \n",
      "Mean Absolute Percentage Error:  19.256958634847106 \n",
      "Coefficient Of Variation:  0.20030872593290205 \n",
      "Y mean:  1075684.079455081\n",
      "Criterion: absolute_error Max depth: 10\n",
      "\n",
      "Mean Absolute Error:  216049.1114353592 \n",
      "R2 score:  0.6398348392331052 \n",
      "Root Mean Squared Error:  379473.0025151719 \n",
      "Mean Absolute Percentage Error:  19.804314344763796 \n",
      "Coefficient Of Variation:  0.2008481073223703 \n",
      "Y mean:  1075684.079455081\n",
      "Criterion: squared_error Max depth: 9\n",
      "\n"
     ]
    }
   ],
   "source": [
    "sorted_list= sorted(result, key = lambda obj: obj.mae)\n",
    "for i in range(0,5):\n",
    "    obj = sorted_list[i]\n",
    "    obj.validation_metrics()\n",
    "    print(obj.parameter)"
   ]
  },
  {
   "cell_type": "markdown",
   "id": "69482127",
   "metadata": {},
   "source": [
    "# Second model:\n",
    "\n"
   ]
  },
  {
   "cell_type": "code",
   "execution_count": null,
   "id": "a6db0aa8",
   "metadata": {},
   "outputs": [],
   "source": [
    "from sklearn.linear_model import SGDRegressor\n",
    "\n",
    "model2 = SGDRegressor().fit(x_train, y_train)"
   ]
  }
 ],
 "metadata": {
  "kernelspec": {
   "display_name": "Python 3 (ipykernel)",
   "language": "python",
   "name": "python3"
  },
  "language_info": {
   "codemirror_mode": {
    "name": "ipython",
    "version": 3
   },
   "file_extension": ".py",
   "mimetype": "text/x-python",
   "name": "python",
   "nbconvert_exporter": "python",
   "pygments_lexer": "ipython3",
   "version": "3.10.9"
  }
 },
 "nbformat": 4,
 "nbformat_minor": 5
}
